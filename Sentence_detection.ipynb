{
  "nbformat": 4,
  "nbformat_minor": 0,
  "metadata": {
    "colab": {
      "name": "Sentence_detection.ipynb",
      "provenance": []
    },
    "kernelspec": {
      "name": "python3",
      "display_name": "Python 3"
    }
  },
  "cells": [
    {
      "cell_type": "code",
      "metadata": {
        "id": "E-uRwIuW7d57",
        "colab_type": "code",
        "colab": {}
      },
      "source": [
        "pip install lexnlp"
      ],
      "execution_count": 0,
      "outputs": []
    },
    {
      "cell_type": "code",
      "metadata": {
        "id": "Bcwq9nshDkEH",
        "colab_type": "code",
        "colab": {}
      },
      "source": [
        "import lexnlp.nlp.en.segments.sentences\n",
        "import nltk\n",
        "import os\n"
      ],
      "execution_count": 0,
      "outputs": []
    },
    {
      "cell_type": "code",
      "metadata": {
        "id": "QuqaAy2cs91B",
        "colab_type": "code",
        "outputId": "cfa297f3-2260-458e-be7d-3e018c6dca3d",
        "colab": {
          "base_uri": "https://localhost:8080/",
          "height": 151
        }
      },
      "source": [
        "nltk.download('punkt')\n",
        "nltk.download('averaged_perceptron_tagger')\n",
        "nltk.download('wordnet')\n",
        "import re"
      ],
      "execution_count": 0,
      "outputs": [
        {
          "output_type": "stream",
          "text": [
            "[nltk_data] Downloading package punkt to /root/nltk_data...\n",
            "[nltk_data]   Package punkt is already up-to-date!\n",
            "[nltk_data] Downloading package averaged_perceptron_tagger to\n",
            "[nltk_data]     /root/nltk_data...\n",
            "[nltk_data]   Package averaged_perceptron_tagger is already up-to-\n",
            "[nltk_data]       date!\n",
            "[nltk_data] Downloading package wordnet to /root/nltk_data...\n",
            "[nltk_data]   Package wordnet is already up-to-date!\n"
          ],
          "name": "stderr"
        }
      ]
    },
    {
      "cell_type": "code",
      "metadata": {
        "id": "ezZTyl0un9Ja",
        "colab_type": "code",
        "colab": {}
      },
      "source": [
        "path = '/content/parsed_files'\n",
        "for doc in os.listdir(path):\n",
        "  doc_path = os.path.join(path,doc)\n",
        "  #print(doc_path)\n",
        "  with open(doc_path) as file:\n",
        "    content = file.read()\n",
        "    #print(content)\n",
        "    sent = lexnlp.nlp.en.segments.sentences.get_sentence_list(content)\n",
        "\n",
        "  out_path = '/content/inter'\n",
        "  out_file = os.path.splitext(doc)[0] + '.txt'\n",
        "  with open(os.path.join(out_path, out_file),'w') as outfile:\n",
        "    for listitem in sent:\n",
        "       outfile.write('%s\\n'%listitem)\n",
        "\n",
        "\n",
        "  sec_path = '/content/inter'\n",
        "  for outfile in os.listdir(sec_path):\n",
        "    sub_path = os.path.join(sec_path,outfile)\n",
        "    with open(sub_path,'r') as readfile:\n",
        "      lines = readfile.read().split('\\n')\n",
        "      #print(lines)\n",
        "      for i,line in enumerate(lines):\n",
        "          #print(i,line)\n",
        "          if line.startswith('v.'):\n",
        "            lines[i-1] = lines[i-1] +lines[i]\n",
        "            lines.pop(i)\n",
        "            #print(lines)\n",
        "\n",
        "            for j, l in enumerate(lines):\n",
        "              #print(j,l)\n",
        "              if l.endswith('v.'):\n",
        "                  lines[j] = lines[j] + lines[j+1]\n",
        "                  lines.pop(j+1)\n",
        "\n",
        "              else:\n",
        "                  pass\n",
        "\n",
        "          elif line.endswith('v.'):\n",
        "              lines[i] = lines[i] +lines[i+1]\n",
        "              lines.pop(i+1)\n",
        "\n",
        "          if line[:3].isdigit():\n",
        "            lines[i-1] = lines[i-1] + lines[i]\n",
        "            #print(line)\n",
        "            lines.pop(i)\n",
        "\n",
        "            for j,l in enumerate(lines):\n",
        "                if l[:3].isdigit():\n",
        "                   #print(l)\n",
        "                  lines[j-1] = lines[j-1] + lines[j]\n",
        "                  lines.pop(j)\n",
        "\n",
        "                else:\n",
        "                      pass\n",
        "\n",
        "\n",
        "          if line.endswith(':'):\n",
        "            #print(line)\n",
        "            lines[i] = lines[i] + lines[i+1]\n",
        "            lines.pop(i+1)  \n",
        "\n",
        "\n",
        "\n",
        "      path3 = '/content/final_folder'\n",
        "      write_file = os.path.splitext(outfile)[0] + '.txt'\n",
        "      with open(os.path.join(path3, write_file),'w') as out2:\n",
        "        for item in lines:\n",
        "          out2.write('%s\\n'%item)\n",
        "\n",
        "\n",
        "\n",
        "\n",
        "\n",
        "\n",
        "\n",
        "    "
      ],
      "execution_count": 0,
      "outputs": []
    },
    {
      "cell_type": "code",
      "metadata": {
        "id": "2weGwxkcHGut",
        "colab_type": "code",
        "colab": {}
      },
      "source": [
        "\n",
        "with open('/content/01-05-3  Graham v King.txt','r') as file:\n",
        "   content = file.read()\n",
        "   #print(content)\n",
        "   sent = lexnlp.nlp.en.segments.sentences.get_sentence_list(content)\n",
        "   #print(sent)\n",
        "   with open('output_file.txt','w') as outfile:\n",
        "     for listitem in sent:\n",
        "       outfile.write('%s\\n'%listitem)\n",
        "       \n",
        "with open('output_file.txt','r') as f:\n",
        "  lines = f.read().split('\\n')\n",
        "  for i,line in enumerate(lines):\n",
        "    #print(i,line)\n",
        "    if line.startswith('v.'):\n",
        "      lines[i-1] = lines[i-1] +lines[i]\n",
        "      lines.pop(i)\n",
        "\n",
        "        for j, l in enumerate(lines):\n",
        "          #print(j,l)\n",
        "          if l.endswith('v.'):\n",
        "            lines[j] = lines[j] + lines[j+1]\n",
        "            lines.pop(j+1)\n",
        "\n",
        "          else:\n",
        "            pass\n",
        "\n",
        "    elif line.endswith('v.'):\n",
        "      lines[i] = lines[i] +lines[i+1]\n",
        "      lines.pop(i+1)\n",
        "\n",
        "    if line[:3].isdigit():\n",
        "      lines[i-1] = lines[i-1] + lines[i]\n",
        "      #print(line)\n",
        "      lines.pop(i)\n",
        "\n",
        "      for j,l in enumerate(lines):\n",
        "        if l[:3].isdigit():\n",
        "          #print(l)\n",
        "          lines[j-1] = lines[j-1] + lines[j]\n",
        "          lines.pop(j)\n",
        "\n",
        "        else:\n",
        "          pass\n",
        "\n",
        "          \n",
        "    if line.endswith(':'):\n",
        "      #print(line)\n",
        "      lines[i] = lines[i] + lines[i+1]\n",
        "      lines.pop(i+1)\n",
        "\n",
        "    \n",
        "    \n",
        "\n",
        "\n",
        "   \n",
        "with open('out33.txt','w') as outf:\n",
        "    for items in lines:\n",
        "      outf.write('%s\\n'%items)\n",
        "\n",
        "\n",
        "  \n",
        "    "
      ],
      "execution_count": 0,
      "outputs": []
    },
    {
      "cell_type": "code",
      "metadata": {
        "id": "7GgtxLe4n2MG",
        "colab_type": "code",
        "colab": {}
      },
      "source": [
        ""
      ],
      "execution_count": 0,
      "outputs": []
    },
    {
      "cell_type": "code",
      "metadata": {
        "id": "wG7Hb9tMn7zY",
        "colab_type": "code",
        "colab": {}
      },
      "source": [
        ""
      ],
      "execution_count": 0,
      "outputs": []
    },
    {
      "cell_type": "code",
      "metadata": {
        "id": "EGtcMnyCIVaR",
        "colab_type": "code",
        "colab": {}
      },
      "source": [
        ""
      ],
      "execution_count": 0,
      "outputs": []
    },
    {
      "cell_type": "code",
      "metadata": {
        "id": "rA4Ll3pkOk9I",
        "colab_type": "code",
        "colab": {}
      },
      "source": [
        ""
      ],
      "execution_count": 0,
      "outputs": []
    }
  ]
}